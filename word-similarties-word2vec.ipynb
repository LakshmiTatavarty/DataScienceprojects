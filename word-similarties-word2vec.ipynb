{
 "cells": [
  {
   "cell_type": "code",
   "execution_count": 1,
   "id": "506737bb",
   "metadata": {
    "_cell_guid": "b1076dfc-b9ad-4769-8c92-a6c4dae69d19",
    "_uuid": "8f2839f25d086af736a60e9eeb907d3b93b6e0e5",
    "execution": {
     "iopub.execute_input": "2025-07-14T22:34:52.953747Z",
     "iopub.status.busy": "2025-07-14T22:34:52.953418Z",
     "iopub.status.idle": "2025-07-14T22:35:16.966211Z",
     "shell.execute_reply": "2025-07-14T22:35:16.965189Z"
    },
    "papermill": {
     "duration": 24.020649,
     "end_time": "2025-07-14T22:35:16.968026",
     "exception": false,
     "start_time": "2025-07-14T22:34:52.947377",
     "status": "completed"
    },
    "tags": []
   },
   "outputs": [
    {
     "name": "stdout",
     "output_type": "stream",
     "text": [
      "/kaggle/input/news-category-dataset/News_Category_Dataset_v3.json\n"
     ]
    }
   ],
   "source": [
    "# This Python 3 environment comes with many helpful analytics libraries installed\n",
    "# It is defined by the kaggle/python Docker image: https://github.com/kaggle/docker-python\n",
    "# For example, here's several helpful packages to load\n",
    "\n",
    "import numpy as np # linear algebra\n",
    "import pandas as pd # data processing, CSV file I/O (e.g. pd.read_csv)\n",
    "\n",
    "# Input data files are available in the read-only \"../input/\" directory\n",
    "# For example, running this (by clicking run or pressing Shift+Enter) will list all files under the input directory\n",
    "\n",
    "import os\n",
    "for dirname, _, filenames in os.walk('/kaggle/input'):\n",
    "    for filename in filenames:\n",
    "        print(os.path.join(dirname, filename))\n",
    "\n",
    "from gensim import models\n",
    "\n",
    "# You can write up to 20GB to the current directory (/kaggle/working/) that gets preserved as output when you create a version using \"Save & Run All\" \n",
    "# You can also write temporary files to /kaggle/temp/, but they won't be saved outside of the current session"
   ]
  },
  {
   "cell_type": "code",
   "execution_count": 2,
   "id": "c4ad876c",
   "metadata": {
    "execution": {
     "iopub.execute_input": "2025-07-14T22:35:16.978377Z",
     "iopub.status.busy": "2025-07-14T22:35:16.977838Z",
     "iopub.status.idle": "2025-07-14T22:35:19.847563Z",
     "shell.execute_reply": "2025-07-14T22:35:19.846477Z"
    },
    "papermill": {
     "duration": 2.876859,
     "end_time": "2025-07-14T22:35:19.849418",
     "exception": false,
     "start_time": "2025-07-14T22:35:16.972559",
     "status": "completed"
    },
    "tags": []
   },
   "outputs": [
    {
     "data": {
      "text/html": [
       "<div>\n",
       "<style scoped>\n",
       "    .dataframe tbody tr th:only-of-type {\n",
       "        vertical-align: middle;\n",
       "    }\n",
       "\n",
       "    .dataframe tbody tr th {\n",
       "        vertical-align: top;\n",
       "    }\n",
       "\n",
       "    .dataframe thead th {\n",
       "        text-align: right;\n",
       "    }\n",
       "</style>\n",
       "<table border=\"1\" class=\"dataframe\">\n",
       "  <thead>\n",
       "    <tr style=\"text-align: right;\">\n",
       "      <th></th>\n",
       "      <th>link</th>\n",
       "      <th>headline</th>\n",
       "      <th>category</th>\n",
       "      <th>short_description</th>\n",
       "      <th>authors</th>\n",
       "      <th>date</th>\n",
       "    </tr>\n",
       "  </thead>\n",
       "  <tbody>\n",
       "    <tr>\n",
       "      <th>0</th>\n",
       "      <td>https://www.huffpost.com/entry/covid-boosters-...</td>\n",
       "      <td>Over 4 Million Americans Roll Up Sleeves For O...</td>\n",
       "      <td>U.S. NEWS</td>\n",
       "      <td>Health experts said it is too early to predict...</td>\n",
       "      <td>Carla K. Johnson, AP</td>\n",
       "      <td>2022-09-23</td>\n",
       "    </tr>\n",
       "    <tr>\n",
       "      <th>1</th>\n",
       "      <td>https://www.huffpost.com/entry/american-airlin...</td>\n",
       "      <td>American Airlines Flyer Charged, Banned For Li...</td>\n",
       "      <td>U.S. NEWS</td>\n",
       "      <td>He was subdued by passengers and crew when he ...</td>\n",
       "      <td>Mary Papenfuss</td>\n",
       "      <td>2022-09-23</td>\n",
       "    </tr>\n",
       "    <tr>\n",
       "      <th>2</th>\n",
       "      <td>https://www.huffpost.com/entry/funniest-tweets...</td>\n",
       "      <td>23 Of The Funniest Tweets About Cats And Dogs ...</td>\n",
       "      <td>COMEDY</td>\n",
       "      <td>\"Until you have a dog you don't understand wha...</td>\n",
       "      <td>Elyse Wanshel</td>\n",
       "      <td>2022-09-23</td>\n",
       "    </tr>\n",
       "    <tr>\n",
       "      <th>3</th>\n",
       "      <td>https://www.huffpost.com/entry/funniest-parent...</td>\n",
       "      <td>The Funniest Tweets From Parents This Week (Se...</td>\n",
       "      <td>PARENTING</td>\n",
       "      <td>\"Accidentally put grown-up toothpaste on my to...</td>\n",
       "      <td>Caroline Bologna</td>\n",
       "      <td>2022-09-23</td>\n",
       "    </tr>\n",
       "    <tr>\n",
       "      <th>4</th>\n",
       "      <td>https://www.huffpost.com/entry/amy-cooper-lose...</td>\n",
       "      <td>Woman Who Called Cops On Black Bird-Watcher Lo...</td>\n",
       "      <td>U.S. NEWS</td>\n",
       "      <td>Amy Cooper accused investment firm Franklin Te...</td>\n",
       "      <td>Nina Golgowski</td>\n",
       "      <td>2022-09-22</td>\n",
       "    </tr>\n",
       "  </tbody>\n",
       "</table>\n",
       "</div>"
      ],
      "text/plain": [
       "                                                link  \\\n",
       "0  https://www.huffpost.com/entry/covid-boosters-...   \n",
       "1  https://www.huffpost.com/entry/american-airlin...   \n",
       "2  https://www.huffpost.com/entry/funniest-tweets...   \n",
       "3  https://www.huffpost.com/entry/funniest-parent...   \n",
       "4  https://www.huffpost.com/entry/amy-cooper-lose...   \n",
       "\n",
       "                                            headline   category  \\\n",
       "0  Over 4 Million Americans Roll Up Sleeves For O...  U.S. NEWS   \n",
       "1  American Airlines Flyer Charged, Banned For Li...  U.S. NEWS   \n",
       "2  23 Of The Funniest Tweets About Cats And Dogs ...     COMEDY   \n",
       "3  The Funniest Tweets From Parents This Week (Se...  PARENTING   \n",
       "4  Woman Who Called Cops On Black Bird-Watcher Lo...  U.S. NEWS   \n",
       "\n",
       "                                   short_description               authors  \\\n",
       "0  Health experts said it is too early to predict...  Carla K. Johnson, AP   \n",
       "1  He was subdued by passengers and crew when he ...        Mary Papenfuss   \n",
       "2  \"Until you have a dog you don't understand wha...         Elyse Wanshel   \n",
       "3  \"Accidentally put grown-up toothpaste on my to...      Caroline Bologna   \n",
       "4  Amy Cooper accused investment firm Franklin Te...        Nina Golgowski   \n",
       "\n",
       "        date  \n",
       "0 2022-09-23  \n",
       "1 2022-09-23  \n",
       "2 2022-09-23  \n",
       "3 2022-09-23  \n",
       "4 2022-09-22  "
      ]
     },
     "execution_count": 2,
     "metadata": {},
     "output_type": "execute_result"
    }
   ],
   "source": [
    "dataset = pd.read_json(\"/kaggle/input/news-category-dataset/News_Category_Dataset_v3.json\",lines='True')\n",
    "dataset.head()"
   ]
  },
  {
   "cell_type": "code",
   "execution_count": 3,
   "id": "75eb97a5",
   "metadata": {
    "execution": {
     "iopub.execute_input": "2025-07-14T22:35:19.860089Z",
     "iopub.status.busy": "2025-07-14T22:35:19.859765Z",
     "iopub.status.idle": "2025-07-14T22:35:19.910535Z",
     "shell.execute_reply": "2025-07-14T22:35:19.909467Z"
    },
    "papermill": {
     "duration": 0.058212,
     "end_time": "2025-07-14T22:35:19.912302",
     "exception": false,
     "start_time": "2025-07-14T22:35:19.854090",
     "status": "completed"
    },
    "tags": []
   },
   "outputs": [
    {
     "data": {
      "text/plain": [
       "array(['U.S. NEWS', 'COMEDY', 'PARENTING', 'WORLD NEWS', 'CULTURE & ARTS',\n",
       "       'TECH', 'SPORTS', 'ENTERTAINMENT', 'POLITICS', 'WEIRD NEWS',\n",
       "       'ENVIRONMENT', 'EDUCATION', 'CRIME', 'SCIENCE', 'WELLNESS',\n",
       "       'BUSINESS', 'STYLE & BEAUTY', 'FOOD & DRINK', 'MEDIA',\n",
       "       'QUEER VOICES', 'HOME & LIVING', 'WOMEN', 'BLACK VOICES', 'TRAVEL',\n",
       "       'MONEY', 'RELIGION', 'LATINO VOICES', 'IMPACT', 'WEDDINGS',\n",
       "       'COLLEGE', 'PARENTS', 'ARTS & CULTURE', 'STYLE', 'GREEN', 'TASTE',\n",
       "       'HEALTHY LIVING', 'THE WORLDPOST', 'GOOD NEWS', 'WORLDPOST',\n",
       "       'FIFTY', 'ARTS', 'DIVORCE'], dtype=object)"
      ]
     },
     "execution_count": 3,
     "metadata": {},
     "output_type": "execute_result"
    }
   ],
   "source": [
    "\n",
    "dataset['category'].unique()"
   ]
  },
  {
   "cell_type": "code",
   "execution_count": 4,
   "id": "ef1f6d65",
   "metadata": {
    "execution": {
     "iopub.execute_input": "2025-07-14T22:35:19.923277Z",
     "iopub.status.busy": "2025-07-14T22:35:19.922933Z",
     "iopub.status.idle": "2025-07-14T22:35:19.931413Z",
     "shell.execute_reply": "2025-07-14T22:35:19.930433Z"
    },
    "papermill": {
     "duration": 0.015946,
     "end_time": "2025-07-14T22:35:19.932901",
     "exception": false,
     "start_time": "2025-07-14T22:35:19.916955",
     "status": "completed"
    },
    "tags": []
   },
   "outputs": [
    {
     "data": {
      "text/plain": [
       "20                                        Golden Globes Returning To NBC In January After Year Off-Air---ENTERTAINMENT\n",
       "21                                              Biden Says U.S. Forces Would Defend Taiwan If China Invaded---POLITICS\n",
       "22                            Hurricane Fiona Bears Down On Dominican Republic After Pounding Puerto Rico---WORLD NEWS\n",
       "23                                                           One Dead After Plane Crashes At Reno Air Race---U.S. NEWS\n",
       "24    ‘Beautiful And Sad At The Same Time’: Ukrainian Cultural Festival Takes On A Deeper Meaning This Year---POLITICS\n",
       "25                    Family Of American Held In Afghanistan Says He Was Freed By Taliban In Prisoner Swap---U.S. NEWS\n",
       "26                                                Las Vegas Aces Win First WNBA Title, Chelsea Gray Named MVP---SPORTS\n",
       "27                                                       World Leaders Pay Respects To Queen Elizabeth II---WORLD NEWS\n",
       "28                                 James Cameron Says He 'Clashed' With Studio Before 'Avatar' Release---ENTERTAINMENT\n",
       "29                           'French Spider-Man' Celebrates 60th Birthday With A Massive Skyscraper Climb---WEIRD NEWS\n",
       "30                                              Biden Says Queen's Death Left 'Giant Hole' For Royal Family---POLITICS\n",
       "31                          Watchdog Report Finds Some Census Takers Who Fudged 2020 Data Didn’t Get Fired---U.S. NEWS\n",
       "32                                                 First Public Global Database Of Fossil Fuels Launches---ENVIRONMENT\n",
       "33                          Man Charged With Exposing Himself To Mourners Waiting To View Queen Elizabeth---WORLD NEWS\n",
       "34                                    Alaska Prepares For 'Historic-Level' Storm Barreling Towards Coast---ENVIRONMENT\n",
       "35              Puerto Rico Braces For Landslides And Severe Flooding As Tropical Storm Fiona Approaches---ENVIRONMENT\n",
       "36                                             WHO Raises Alarm On Disease In Flood-hit Areas Of Pakistan---WORLD NEWS\n",
       "37                                              Privatization Isn’t The Answer To Jackson’s Water Crisis---ENVIRONMENT\n",
       "38                           German Customs Officials Follow Trail Of Slime And Find Bags Of Giant Snails---WEIRD NEWS\n",
       "39                      Amazon Greenlights 'Blade Runner 2099' Limited Series Produced By Ridley Scott---ENTERTAINMENT\n",
       "40                                   Bill To Help Afghans Who Escaped Taliban Faces Long Odds In The Senate---POLITICS\n",
       "41                                            Alabama Sidesteps Compensation For Survivor Of '63 KKK Blast---U.S. NEWS\n",
       "42                                              Racism Seen As Root Of Water Crisis In Mississippi Capital---U.S. NEWS\n",
       "43                                           'The Phantom Of The Opera' To Close On Broadway Next Year---ENTERTAINMENT\n",
       "44                                                Mark Meadows Complies With Justice Dept. Subpoena: Report---POLITICS\n",
       "45                      Meet Alex Aster, The TikToker Changing The Publishing Industry For The Better---CULTURE & ARTS\n",
       "46                                           Chick-Fil-A Worker Saves Woman With Baby From Being Carjacked---U.S. NEWS\n",
       "47                                  Viola Davis Feared A Heart Attack During 'The Woman King' Training---ENTERTAINMENT\n",
       "48                                               Kim Kardashian's Next Boyfriend Could Be A Biochemist---ENTERTAINMENT\n",
       "49                                     Podcasters Offer $100K Reward For Information On 2Pac’s Killers---ENTERTAINMENT\n",
       "dtype: object"
      ]
     },
     "execution_count": 4,
     "metadata": {},
     "output_type": "execute_result"
    }
   ],
   "source": [
    "pd.set_option('display.max_colwidth', None)\n",
    "dataset['headline'][20:50]+'---'+ dataset['category'][20:50]"
   ]
  },
  {
   "cell_type": "code",
   "execution_count": 5,
   "id": "e3dab695",
   "metadata": {
    "execution": {
     "iopub.execute_input": "2025-07-14T22:35:19.945034Z",
     "iopub.status.busy": "2025-07-14T22:35:19.944325Z",
     "iopub.status.idle": "2025-07-14T22:35:22.404844Z",
     "shell.execute_reply": "2025-07-14T22:35:22.403722Z"
    },
    "papermill": {
     "duration": 2.468372,
     "end_time": "2025-07-14T22:35:22.406883",
     "exception": false,
     "start_time": "2025-07-14T22:35:19.938511",
     "status": "completed"
    },
    "tags": []
   },
   "outputs": [],
   "source": [
    "import re \n",
    "texts=[]\n",
    "for i in range(0,len(dataset)):\n",
    "  text = re.sub('[^a-zA-Z]' , ' ', dataset['headline'][i])\n",
    "  text = text.lower()\n",
    "  text = text.split()\n",
    "  x = len(text) if text.count('https') ==0  else text.index('https') \n",
    "  text = text[: x ]\n",
    "  text = [t for t in text if not t=='https']\n",
    "  text = ' '.join(text)\n",
    "  texts.append(text)\n"
   ]
  },
  {
   "cell_type": "code",
   "execution_count": 6,
   "id": "eb5121f5",
   "metadata": {
    "execution": {
     "iopub.execute_input": "2025-07-14T22:35:22.418460Z",
     "iopub.status.busy": "2025-07-14T22:35:22.418108Z",
     "iopub.status.idle": "2025-07-14T22:35:22.423395Z",
     "shell.execute_reply": "2025-07-14T22:35:22.422389Z"
    },
    "papermill": {
     "duration": 0.013182,
     "end_time": "2025-07-14T22:35:22.425043",
     "exception": false,
     "start_time": "2025-07-14T22:35:22.411861",
     "status": "completed"
    },
    "tags": []
   },
   "outputs": [
    {
     "name": "stdout",
     "output_type": "stream",
     "text": [
      "['russian cosmonaut valery polyakov who broke record with day stay in space dies at', 'reboot is a clever and not too navel gazey look inside tv reboots', 'maury wills base stealing shortstop for dodgers dies at', 'russian controlled ukrainian regions schedule votes this week to join russia', 'fiona barrels toward turks and caicos islands as category hurricane', 'golden globes returning to nbc in january after year off air', 'biden says u s forces would defend taiwan if china invaded', 'hurricane fiona bears down on dominican republic after pounding puerto rico', 'one dead after plane crashes at reno air race', 'beautiful and sad at the same time ukrainian cultural festival takes on a deeper meaning this year', 'family of american held in afghanistan says he was freed by taliban in prisoner swap', 'las vegas aces win first wnba title chelsea gray named mvp', 'world leaders pay respects to queen elizabeth ii', 'james cameron says he clashed with studio before avatar release', 'french spider man celebrates th birthday with a massive skyscraper climb']\n"
     ]
    }
   ],
   "source": [
    "print(texts[15:30])"
   ]
  },
  {
   "cell_type": "code",
   "execution_count": 7,
   "id": "d23ed54a",
   "metadata": {
    "execution": {
     "iopub.execute_input": "2025-07-14T22:35:22.437165Z",
     "iopub.status.busy": "2025-07-14T22:35:22.435747Z",
     "iopub.status.idle": "2025-07-14T22:35:22.441769Z",
     "shell.execute_reply": "2025-07-14T22:35:22.440527Z"
    },
    "papermill": {
     "duration": 0.013405,
     "end_time": "2025-07-14T22:35:22.443379",
     "exception": false,
     "start_time": "2025-07-14T22:35:22.429974",
     "status": "completed"
    },
    "tags": []
   },
   "outputs": [],
   "source": [
    "from gensim.models import Word2Vec"
   ]
  },
  {
   "cell_type": "code",
   "execution_count": 8,
   "id": "8820be85",
   "metadata": {
    "execution": {
     "iopub.execute_input": "2025-07-14T22:35:22.455808Z",
     "iopub.status.busy": "2025-07-14T22:35:22.455470Z",
     "iopub.status.idle": "2025-07-14T22:35:32.895124Z",
     "shell.execute_reply": "2025-07-14T22:35:32.894214Z"
    },
    "papermill": {
     "duration": 10.447704,
     "end_time": "2025-07-14T22:35:32.896693",
     "exception": false,
     "start_time": "2025-07-14T22:35:22.448989",
     "status": "completed"
    },
    "tags": []
   },
   "outputs": [],
   "source": [
    "sentences = [line.split() for line in texts]\n",
    "\n",
    "w2v =Word2Vec(sentences, vector_size=100, window=10, workers=4,  min_count=5)"
   ]
  },
  {
   "cell_type": "code",
   "execution_count": 9,
   "id": "d241c0d0",
   "metadata": {
    "execution": {
     "iopub.execute_input": "2025-07-14T22:35:32.907775Z",
     "iopub.status.busy": "2025-07-14T22:35:32.907414Z",
     "iopub.status.idle": "2025-07-14T22:35:32.912703Z",
     "shell.execute_reply": "2025-07-14T22:35:32.911685Z"
    },
    "papermill": {
     "duration": 0.01296,
     "end_time": "2025-07-14T22:35:32.914459",
     "exception": false,
     "start_time": "2025-07-14T22:35:32.901499",
     "status": "completed"
    },
    "tags": []
   },
   "outputs": [
    {
     "name": "stdout",
     "output_type": "stream",
     "text": [
      "[['world', 'cup', 'captains', 'want', 'to', 'wear', 'rainbow', 'armbands', 'in', 'qatar'], ['man', 'sets', 'himself', 'on', 'fire', 'in', 'apparent', 'protest', 'of', 'funeral', 'for', 'japan', 's', 'abe'], ['fiona', 'threatens', 'to', 'become', 'category', 'storm', 'headed', 'to', 'bermuda'], ['twitch', 'bans', 'gambling', 'sites', 'after', 'streamer', 'scams', 'folks', 'out', 'of'], ['virginia', 'thomas', 'agrees', 'to', 'interview', 'with', 'jan', 'panel'], ['russian', 'cosmonaut', 'valery', 'polyakov', 'who', 'broke', 'record', 'with', 'day', 'stay', 'in', 'space', 'dies', 'at'], ['reboot', 'is', 'a', 'clever', 'and', 'not', 'too', 'navel', 'gazey', 'look', 'inside', 'tv', 'reboots'], ['maury', 'wills', 'base', 'stealing', 'shortstop', 'for', 'dodgers', 'dies', 'at'], ['russian', 'controlled', 'ukrainian', 'regions', 'schedule', 'votes', 'this', 'week', 'to', 'join', 'russia'], ['fiona', 'barrels', 'toward', 'turks', 'and', 'caicos', 'islands', 'as', 'category', 'hurricane'], ['golden', 'globes', 'returning', 'to', 'nbc', 'in', 'january', 'after', 'year', 'off', 'air'], ['biden', 'says', 'u', 's', 'forces', 'would', 'defend', 'taiwan', 'if', 'china', 'invaded'], ['hurricane', 'fiona', 'bears', 'down', 'on', 'dominican', 'republic', 'after', 'pounding', 'puerto', 'rico'], ['one', 'dead', 'after', 'plane', 'crashes', 'at', 'reno', 'air', 'race'], ['beautiful', 'and', 'sad', 'at', 'the', 'same', 'time', 'ukrainian', 'cultural', 'festival', 'takes', 'on', 'a', 'deeper', 'meaning', 'this', 'year'], ['family', 'of', 'american', 'held', 'in', 'afghanistan', 'says', 'he', 'was', 'freed', 'by', 'taliban', 'in', 'prisoner', 'swap'], ['las', 'vegas', 'aces', 'win', 'first', 'wnba', 'title', 'chelsea', 'gray', 'named', 'mvp'], ['world', 'leaders', 'pay', 'respects', 'to', 'queen', 'elizabeth', 'ii'], ['james', 'cameron', 'says', 'he', 'clashed', 'with', 'studio', 'before', 'avatar', 'release'], ['french', 'spider', 'man', 'celebrates', 'th', 'birthday', 'with', 'a', 'massive', 'skyscraper', 'climb']]\n"
     ]
    }
   ],
   "source": [
    "print(sentences[10:30])"
   ]
  },
  {
   "cell_type": "code",
   "execution_count": 10,
   "id": "802d837e",
   "metadata": {
    "execution": {
     "iopub.execute_input": "2025-07-14T22:35:32.925190Z",
     "iopub.status.busy": "2025-07-14T22:35:32.924880Z",
     "iopub.status.idle": "2025-07-14T22:35:32.931175Z",
     "shell.execute_reply": "2025-07-14T22:35:32.930101Z"
    },
    "papermill": {
     "duration": 0.01332,
     "end_time": "2025-07-14T22:35:32.932683",
     "exception": false,
     "start_time": "2025-07-14T22:35:32.919363",
     "status": "completed"
    },
    "tags": []
   },
   "outputs": [
    {
     "name": "stdout",
     "output_type": "stream",
     "text": [
      "['by', 'out', 'an', 'his', 'my', 'says', 'her', 'who', 'best', 'over']\n"
     ]
    }
   ],
   "source": [
    "words = list(w2v.wv.key_to_index)\n",
    "print(words[40:50])"
   ]
  },
  {
   "cell_type": "code",
   "execution_count": 11,
   "id": "f41ee9aa",
   "metadata": {
    "execution": {
     "iopub.execute_input": "2025-07-14T22:35:32.944076Z",
     "iopub.status.busy": "2025-07-14T22:35:32.943676Z",
     "iopub.status.idle": "2025-07-14T22:35:32.949526Z",
     "shell.execute_reply": "2025-07-14T22:35:32.948472Z"
    },
    "papermill": {
     "duration": 0.01332,
     "end_time": "2025-07-14T22:35:32.951188",
     "exception": false,
     "start_time": "2025-07-14T22:35:32.937868",
     "status": "completed"
    },
    "tags": []
   },
   "outputs": [
    {
     "name": "stdout",
     "output_type": "stream",
     "text": [
      "20345\n"
     ]
    }
   ],
   "source": [
    "print(len(words))"
   ]
  },
  {
   "cell_type": "code",
   "execution_count": 12,
   "id": "dd81e3d9",
   "metadata": {
    "execution": {
     "iopub.execute_input": "2025-07-14T22:35:32.963053Z",
     "iopub.status.busy": "2025-07-14T22:35:32.962675Z",
     "iopub.status.idle": "2025-07-14T22:35:32.968882Z",
     "shell.execute_reply": "2025-07-14T22:35:32.967766Z"
    },
    "papermill": {
     "duration": 0.014164,
     "end_time": "2025-07-14T22:35:32.970746",
     "exception": false,
     "start_time": "2025-07-14T22:35:32.956582",
     "status": "completed"
    },
    "tags": []
   },
   "outputs": [
    {
     "name": "stdout",
     "output_type": "stream",
     "text": [
      "[-0.06362886  0.34013256  0.5313698   0.5336656  -0.80390143 -0.5942066\n",
      "  0.06109329  0.63200164  0.4213414  -1.2199928  -1.0808907  -0.96952826\n",
      "  0.17750022 -0.22942999  0.15675159 -1.0259898   0.06174924 -0.35559282\n",
      " -0.32649186 -0.22859986 -0.17875808  0.45207375  0.6231859  -0.41971704\n",
      "  0.23312841  1.9895728  -0.1528784  -0.1670399  -0.39048597  1.2026784\n",
      " -0.26111042  1.0853866  -0.1923896   0.54727876  0.56378484 -0.06060545\n",
      "  0.57948786 -0.23404841 -0.896362   -0.04325113  0.28180397 -0.7639135\n",
      " -0.9407228   0.14163533  0.03485078  0.880667   -0.7233866   0.5970138\n",
      " -0.3247588   0.5392523   0.8741284  -0.6670377  -0.31627485  0.7277225\n",
      " -0.6855406   0.4376404   0.6329367   0.0282483  -0.11500511 -0.40510827\n",
      " -0.28151023 -0.05417836 -0.76376325  0.11908404  0.27902138  0.04504738\n",
      " -0.01853232 -0.7069684   0.03685378 -0.94524175 -1.3693202   1.0527532\n",
      "  0.5966143  -0.86106473 -1.249667    0.31106964  0.45844212 -0.1262063\n",
      " -0.24084906  1.3986362   0.30412522  1.0112306   0.20137389 -0.8867764\n",
      "  0.08395036 -0.8671481  -0.85327595 -0.13898014  0.7633676  -0.41892138\n",
      " -0.8916603   0.7787558  -0.58335847  0.19053736  0.4959352  -0.16066667\n",
      "  0.23912029  0.19411512 -0.4591836   0.31391063]\n"
     ]
    }
   ],
   "source": [
    "print( w2v.wv['hurricane'] )"
   ]
  },
  {
   "cell_type": "code",
   "execution_count": 13,
   "id": "39acc130",
   "metadata": {
    "execution": {
     "iopub.execute_input": "2025-07-14T22:35:32.982626Z",
     "iopub.status.busy": "2025-07-14T22:35:32.982345Z",
     "iopub.status.idle": "2025-07-14T22:35:32.988843Z",
     "shell.execute_reply": "2025-07-14T22:35:32.987943Z"
    },
    "papermill": {
     "duration": 0.014551,
     "end_time": "2025-07-14T22:35:32.990339",
     "exception": false,
     "start_time": "2025-07-14T22:35:32.975788",
     "status": "completed"
    },
    "tags": []
   },
   "outputs": [
    {
     "data": {
      "text/plain": [
       "0.74474627"
      ]
     },
     "execution_count": 13,
     "metadata": {},
     "output_type": "execute_result"
    }
   ],
   "source": [
    "w2v.wv.similarity('hurricane', 'storm')"
   ]
  },
  {
   "cell_type": "code",
   "execution_count": 14,
   "id": "50aa35b1",
   "metadata": {
    "execution": {
     "iopub.execute_input": "2025-07-14T22:35:33.001810Z",
     "iopub.status.busy": "2025-07-14T22:35:33.001466Z",
     "iopub.status.idle": "2025-07-14T22:35:33.007693Z",
     "shell.execute_reply": "2025-07-14T22:35:33.006705Z"
    },
    "papermill": {
     "duration": 0.013833,
     "end_time": "2025-07-14T22:35:33.009210",
     "exception": false,
     "start_time": "2025-07-14T22:35:32.995377",
     "status": "completed"
    },
    "tags": []
   },
   "outputs": [
    {
     "data": {
      "text/plain": [
       "0.4926461"
      ]
     },
     "execution_count": 14,
     "metadata": {},
     "output_type": "execute_result"
    }
   ],
   "source": [
    "w2v.wv.similarity('cameron', 'elizabeth')"
   ]
  },
  {
   "cell_type": "code",
   "execution_count": 15,
   "id": "410a950b",
   "metadata": {
    "execution": {
     "iopub.execute_input": "2025-07-14T22:35:33.022174Z",
     "iopub.status.busy": "2025-07-14T22:35:33.021791Z",
     "iopub.status.idle": "2025-07-14T22:35:33.044513Z",
     "shell.execute_reply": "2025-07-14T22:35:33.043143Z"
    },
    "papermill": {
     "duration": 0.03088,
     "end_time": "2025-07-14T22:35:33.046161",
     "exception": false,
     "start_time": "2025-07-14T22:35:33.015281",
     "status": "completed"
    },
    "tags": []
   },
   "outputs": [
    {
     "name": "stdout",
     "output_type": "stream",
     "text": [
      "[('buffett', 0.831863284111023), ('warren', 0.8142476081848145), ('huckabee', 0.8039773106575012), ('sarah', 0.8005422949790955), ('fiorina', 0.8004058003425598), ('dnc', 0.8002687096595764), ('romney', 0.7925297617912292), ('nomination', 0.792301595211029), ('carly', 0.7875141501426697), ('graham', 0.7811324000358582)]\n"
     ]
    }
   ],
   "source": [
    "print(w2v.wv.most_similar('elizabeth'))"
   ]
  },
  {
   "cell_type": "code",
   "execution_count": 16,
   "id": "ea728265",
   "metadata": {
    "execution": {
     "iopub.execute_input": "2025-07-14T22:35:33.058266Z",
     "iopub.status.busy": "2025-07-14T22:35:33.057919Z",
     "iopub.status.idle": "2025-07-14T22:35:33.064569Z",
     "shell.execute_reply": "2025-07-14T22:35:33.063195Z"
    },
    "papermill": {
     "duration": 0.014407,
     "end_time": "2025-07-14T22:35:33.066169",
     "exception": false,
     "start_time": "2025-07-14T22:35:33.051762",
     "status": "completed"
    },
    "tags": []
   },
   "outputs": [
    {
     "name": "stdout",
     "output_type": "stream",
     "text": [
      "[('ocean', 0.7744405269622803), ('garden', 0.759946346282959), ('nasa', 0.7570868730545044), ('giant', 0.7421695590019226), ('weather', 0.7360660433769226), ('jet', 0.7339755296707153), ('apartment', 0.7313798666000366), ('resort', 0.7245429158210754), ('sea', 0.7219192981719971), ('ship', 0.7218566536903381)]\n"
     ]
    }
   ],
   "source": [
    "print(w2v.wv.most_similar('space'))"
   ]
  },
  {
   "cell_type": "code",
   "execution_count": 17,
   "id": "4caa57f5",
   "metadata": {
    "execution": {
     "iopub.execute_input": "2025-07-14T22:35:33.078563Z",
     "iopub.status.busy": "2025-07-14T22:35:33.078225Z",
     "iopub.status.idle": "2025-07-14T22:35:33.084753Z",
     "shell.execute_reply": "2025-07-14T22:35:33.083845Z"
    },
    "papermill": {
     "duration": 0.014284,
     "end_time": "2025-07-14T22:35:33.086253",
     "exception": false,
     "start_time": "2025-07-14T22:35:33.071969",
     "status": "completed"
    },
    "tags": []
   },
   "outputs": [
    {
     "name": "stdout",
     "output_type": "stream",
     "text": [
      "[('heatwave', 0.9442818760871887), ('pools', 0.9403197169303894), ('accents', 0.9368206858634949), ('pads', 0.9346755146980286), ('succeeds', 0.9345381259918213), ('nagasu', 0.9335220456123352), ('motel', 0.9332565665245056), ('kreme', 0.9331347942352295), ('encased', 0.9315361976623535), ('butterflies', 0.9306932091712952)]\n"
     ]
    }
   ],
   "source": [
    "print(w2v.wv.most_similar('caicos'))"
   ]
  },
  {
   "cell_type": "code",
   "execution_count": 18,
   "id": "2bfa30a9",
   "metadata": {
    "execution": {
     "iopub.execute_input": "2025-07-14T22:35:33.099578Z",
     "iopub.status.busy": "2025-07-14T22:35:33.099273Z",
     "iopub.status.idle": "2025-07-14T22:35:33.106414Z",
     "shell.execute_reply": "2025-07-14T22:35:33.104998Z"
    },
    "papermill": {
     "duration": 0.015595,
     "end_time": "2025-07-14T22:35:33.108298",
     "exception": false,
     "start_time": "2025-07-14T22:35:33.092703",
     "status": "completed"
    },
    "tags": []
   },
   "outputs": [
    {
     "name": "stdout",
     "output_type": "stream",
     "text": [
      "[('baffles', 0.8998777270317078), ('irina', 0.8857133388519287), ('shayk', 0.8814125657081604), ('je', 0.8810872435569763), ('badu', 0.8740186095237732), ('crater', 0.8737868666648865), ('suis', 0.8735285997390747), ('sans', 0.8728878498077393), ('copeland', 0.8726081848144531), ('daphne', 0.8705361485481262)]\n"
     ]
    }
   ],
   "source": [
    "print(w2v.wv.most_similar(positive=['caicos', 'botswana'], negative=['dominican']))"
   ]
  },
  {
   "cell_type": "code",
   "execution_count": 19,
   "id": "248fbb3c",
   "metadata": {
    "execution": {
     "iopub.execute_input": "2025-07-14T22:35:33.120479Z",
     "iopub.status.busy": "2025-07-14T22:35:33.120160Z",
     "iopub.status.idle": "2025-07-14T22:35:33.127548Z",
     "shell.execute_reply": "2025-07-14T22:35:33.126272Z"
    },
    "papermill": {
     "duration": 0.015538,
     "end_time": "2025-07-14T22:35:33.129304",
     "exception": false,
     "start_time": "2025-07-14T22:35:33.113766",
     "status": "completed"
    },
    "tags": []
   },
   "outputs": [
    {
     "data": {
      "text/plain": [
       "'grocery'"
      ]
     },
     "execution_count": 19,
     "metadata": {},
     "output_type": "execute_result"
    }
   ],
   "source": [
    "w2v.wv.doesnt_match(['grocery', 'caicos', 'dominican'])"
   ]
  },
  {
   "cell_type": "code",
   "execution_count": 20,
   "id": "928e52a5",
   "metadata": {
    "execution": {
     "iopub.execute_input": "2025-07-14T22:35:33.141624Z",
     "iopub.status.busy": "2025-07-14T22:35:33.141312Z",
     "iopub.status.idle": "2025-07-14T22:35:46.678011Z",
     "shell.execute_reply": "2025-07-14T22:35:46.676920Z"
    },
    "papermill": {
     "duration": 13.544673,
     "end_time": "2025-07-14T22:35:46.679451",
     "exception": false,
     "start_time": "2025-07-14T22:35:33.134778",
     "status": "completed"
    },
    "tags": []
   },
   "outputs": [
    {
     "name": "stdout",
     "output_type": "stream",
     "text": [
      "Requirement already satisfied: gensim in /usr/local/lib/python3.11/dist-packages (4.3.3)\r\n",
      "Requirement already satisfied: scikit-learn in /usr/local/lib/python3.11/dist-packages (1.2.2)\r\n",
      "Requirement already satisfied: matplotlib in /usr/local/lib/python3.11/dist-packages (3.7.2)\r\n",
      "Requirement already satisfied: numpy<2.0,>=1.18.5 in /usr/local/lib/python3.11/dist-packages (from gensim) (1.26.4)\r\n",
      "Collecting scipy<1.14.0,>=1.7.0 (from gensim)\r\n",
      "  Downloading scipy-1.13.1-cp311-cp311-manylinux_2_17_x86_64.manylinux2014_x86_64.whl.metadata (60 kB)\r\n",
      "\u001b[2K     \u001b[90m━━━━━━━━━━━━━━━━━━━━━━━━━━━━━━━━━━━━━━━━\u001b[0m \u001b[32m60.6/60.6 kB\u001b[0m \u001b[31m1.8 MB/s\u001b[0m eta \u001b[36m0:00:00\u001b[0m\r\n",
      "\u001b[?25hRequirement already satisfied: smart-open>=1.8.1 in /usr/local/lib/python3.11/dist-packages (from gensim) (7.1.0)\r\n",
      "Requirement already satisfied: joblib>=1.1.1 in /usr/local/lib/python3.11/dist-packages (from scikit-learn) (1.5.1)\r\n",
      "Requirement already satisfied: threadpoolctl>=2.0.0 in /usr/local/lib/python3.11/dist-packages (from scikit-learn) (3.6.0)\r\n",
      "Requirement already satisfied: contourpy>=1.0.1 in /usr/local/lib/python3.11/dist-packages (from matplotlib) (1.3.2)\r\n",
      "Requirement already satisfied: cycler>=0.10 in /usr/local/lib/python3.11/dist-packages (from matplotlib) (0.12.1)\r\n",
      "Requirement already satisfied: fonttools>=4.22.0 in /usr/local/lib/python3.11/dist-packages (from matplotlib) (4.58.4)\r\n",
      "Requirement already satisfied: kiwisolver>=1.0.1 in /usr/local/lib/python3.11/dist-packages (from matplotlib) (1.4.8)\r\n",
      "Requirement already satisfied: packaging>=20.0 in /usr/local/lib/python3.11/dist-packages (from matplotlib) (25.0)\r\n",
      "Requirement already satisfied: pillow>=6.2.0 in /usr/local/lib/python3.11/dist-packages (from matplotlib) (11.2.1)\r\n",
      "Requirement already satisfied: pyparsing<3.1,>=2.3.1 in /usr/local/lib/python3.11/dist-packages (from matplotlib) (3.0.9)\r\n",
      "Requirement already satisfied: python-dateutil>=2.7 in /usr/local/lib/python3.11/dist-packages (from matplotlib) (2.9.0.post0)\r\n",
      "Requirement already satisfied: mkl_fft in /usr/local/lib/python3.11/dist-packages (from numpy<2.0,>=1.18.5->gensim) (1.3.8)\r\n",
      "Requirement already satisfied: mkl_random in /usr/local/lib/python3.11/dist-packages (from numpy<2.0,>=1.18.5->gensim) (1.2.4)\r\n",
      "Requirement already satisfied: mkl_umath in /usr/local/lib/python3.11/dist-packages (from numpy<2.0,>=1.18.5->gensim) (0.1.1)\r\n",
      "Requirement already satisfied: mkl in /usr/local/lib/python3.11/dist-packages (from numpy<2.0,>=1.18.5->gensim) (2025.2.0)\r\n",
      "Requirement already satisfied: tbb4py in /usr/local/lib/python3.11/dist-packages (from numpy<2.0,>=1.18.5->gensim) (2022.2.0)\r\n",
      "Requirement already satisfied: mkl-service in /usr/local/lib/python3.11/dist-packages (from numpy<2.0,>=1.18.5->gensim) (2.4.1)\r\n",
      "Requirement already satisfied: six>=1.5 in /usr/local/lib/python3.11/dist-packages (from python-dateutil>=2.7->matplotlib) (1.17.0)\r\n",
      "Requirement already satisfied: wrapt in /usr/local/lib/python3.11/dist-packages (from smart-open>=1.8.1->gensim) (1.17.2)\r\n",
      "Requirement already satisfied: intel-openmp<2026,>=2024 in /usr/local/lib/python3.11/dist-packages (from mkl->numpy<2.0,>=1.18.5->gensim) (2024.2.0)\r\n",
      "Requirement already satisfied: tbb==2022.* in /usr/local/lib/python3.11/dist-packages (from mkl->numpy<2.0,>=1.18.5->gensim) (2022.2.0)\r\n",
      "Requirement already satisfied: tcmlib==1.* in /usr/local/lib/python3.11/dist-packages (from tbb==2022.*->mkl->numpy<2.0,>=1.18.5->gensim) (1.4.0)\r\n",
      "Requirement already satisfied: intel-cmplr-lib-rt in /usr/local/lib/python3.11/dist-packages (from mkl_umath->numpy<2.0,>=1.18.5->gensim) (2024.2.0)\r\n",
      "Requirement already satisfied: intel-cmplr-lib-ur==2024.2.0 in /usr/local/lib/python3.11/dist-packages (from intel-openmp<2026,>=2024->mkl->numpy<2.0,>=1.18.5->gensim) (2024.2.0)\r\n",
      "Downloading scipy-1.13.1-cp311-cp311-manylinux_2_17_x86_64.manylinux2014_x86_64.whl (38.6 MB)\r\n",
      "\u001b[2K   \u001b[90m━━━━━━━━━━━━━━━━━━━━━━━━━━━━━━━━━━━━━━━━\u001b[0m \u001b[32m38.6/38.6 MB\u001b[0m \u001b[31m43.8 MB/s\u001b[0m eta \u001b[36m0:00:00\u001b[0m\r\n",
      "\u001b[?25hInstalling collected packages: scipy\r\n",
      "  Attempting uninstall: scipy\r\n",
      "    Found existing installation: scipy 1.15.3\r\n",
      "    Uninstalling scipy-1.15.3:\r\n",
      "      Successfully uninstalled scipy-1.15.3\r\n",
      "\u001b[31mERROR: pip's dependency resolver does not currently take into account all the packages that are installed. This behaviour is the source of the following dependency conflicts.\r\n",
      "cesium 0.12.4 requires numpy<3.0,>=2.0, but you have numpy 1.26.4 which is incompatible.\r\n",
      "tsfresh 0.21.0 requires scipy>=1.14.0; python_version >= \"3.10\", but you have scipy 1.13.1 which is incompatible.\r\n",
      "dopamine-rl 4.1.2 requires gymnasium>=1.0.0, but you have gymnasium 0.29.0 which is incompatible.\r\n",
      "imbalanced-learn 0.13.0 requires scikit-learn<2,>=1.3.2, but you have scikit-learn 1.2.2 which is incompatible.\r\n",
      "plotnine 0.14.5 requires matplotlib>=3.8.0, but you have matplotlib 3.7.2 which is incompatible.\r\n",
      "mlxtend 0.23.4 requires scikit-learn>=1.3.1, but you have scikit-learn 1.2.2 which is incompatible.\u001b[0m\u001b[31m\r\n",
      "\u001b[0mSuccessfully installed scipy-1.13.1\r\n",
      "Note: you may need to restart the kernel to use updated packages.\n"
     ]
    }
   ],
   "source": [
    "pip install gensim scikit-learn matplotlib"
   ]
  },
  {
   "cell_type": "code",
   "execution_count": 21,
   "id": "b3c7fb06",
   "metadata": {
    "execution": {
     "iopub.execute_input": "2025-07-14T22:35:46.693955Z",
     "iopub.status.busy": "2025-07-14T22:35:46.693585Z",
     "iopub.status.idle": "2025-07-14T22:35:47.170809Z",
     "shell.execute_reply": "2025-07-14T22:35:47.169756Z"
    },
    "papermill": {
     "duration": 0.486588,
     "end_time": "2025-07-14T22:35:47.172588",
     "exception": false,
     "start_time": "2025-07-14T22:35:46.686000",
     "status": "completed"
    },
    "tags": []
   },
   "outputs": [],
   "source": [
    "from sklearn.decomposition import PCA\n",
    "import matplotlib.pyplot as plt"
   ]
  },
  {
   "cell_type": "code",
   "execution_count": 22,
   "id": "2bbfc4ed",
   "metadata": {
    "execution": {
     "iopub.execute_input": "2025-07-14T22:35:47.187240Z",
     "iopub.status.busy": "2025-07-14T22:35:47.186874Z",
     "iopub.status.idle": "2025-07-14T22:35:47.589021Z",
     "shell.execute_reply": "2025-07-14T22:35:47.588065Z"
    },
    "papermill": {
     "duration": 0.411048,
     "end_time": "2025-07-14T22:35:47.590598",
     "exception": false,
     "start_time": "2025-07-14T22:35:47.179550",
     "status": "completed"
    },
    "tags": []
   },
   "outputs": [
    {
     "data": {
      "image/png": "[encoded data removed]",
      "text/plain": [
       "<Figure size 1000x600 with 1 Axes>"
      ]
     },
     "metadata": {},
     "output_type": "display_data"
    }
   ],
   "source": [
    "\n",
    "\n",
    "# 3. Choose words to visualize\n",
    "words_to_visual = [\"festival\", \"cultural\", \"elizabeth\", \"cameron\", \"prince\", \"princess\", \"world\", \"rainbow\",\n",
    "                  \"clash\",\"globe\"]\n",
    "\n",
    "# 4. Get their vectors\n",
    "word_vectors = [w2v.wv[word] for word in words_to_visual]\n",
    "\n",
    "# 5. Reduce to 2D using PCA\n",
    "pca = PCA(n_components=2)\n",
    "reduced = pca.fit_transform(word_vectors)\n",
    "\n",
    "# 6. Plot\n",
    "plt.figure(figsize=(10, 6))\n",
    "for i, word in enumerate(words_to_visual):\n",
    "    x, y = reduced[i]\n",
    "    plt.scatter(x, y)\n",
    "    plt.text(x + 0.01, y + 0.01, word, fontsize=12)\n",
    "    \n",
    "plt.title(\"Word2Vec Visualization using PCA\")\n",
    "plt.grid(True)\n",
    "plt.show()\n"
   ]
  }
 ],
 "metadata": {
  "kaggle": {
   "accelerator": "none",
   "dataSources": [
    {
     "datasetId": 32526,
     "sourceId": 4243451,
     "sourceType": "datasetVersion"
    }
   ],
   "dockerImageVersionId": 31089,
   "isGpuEnabled": false,
   "isInternetEnabled": true,
   "language": "python",
   "sourceType": "notebook"
  },
  "kernelspec": {
   "display_name": "Python 3",
   "language": "python",
   "name": "python3"
  },
  "language_info": {
   "codemirror_mode": {
    "name": "ipython",
    "version": 3
   },
   "file_extension": ".py",
   "mimetype": "text/x-python",
   "name": "python",
   "nbconvert_exporter": "python",
   "pygments_lexer": "ipython3",
   "version": "3.11.13"
  },
  "papermill": {
   "default_parameters": {},
   "duration": 63.279644,
   "end_time": "2025-07-14T22:35:51.060350",
   "environment_variables": {},
   "exception": null,
   "input_path": "__notebook__.ipynb",
   "output_path": "__notebook__.ipynb",
   "parameters": {},
   "start_time": "2025-07-14T22:34:47.780706",
   "version": "2.6.0"
  }
 },
 "nbformat": 4,
 "nbformat_minor": 5
}
